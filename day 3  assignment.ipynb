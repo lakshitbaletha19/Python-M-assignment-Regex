{
 "cells": [
  {
   "cell_type": "code",
   "execution_count": 2,
   "id": "3a90d60f-cbbf-49e6-9770-0d7577623e42",
   "metadata": {},
   "outputs": [
    {
     "name": "stdin",
     "output_type": "stream",
     "text": [
      "enter the month number 12\n"
     ]
    },
    {
     "name": "stdout",
     "output_type": "stream",
     "text": [
      "12\n",
      "december\n"
     ]
    }
   ],
   "source": [
    "# Q1.\n",
    "\n",
    "num=int(input(\"enter the month number\"))\n",
    "print(num)\n",
    "if(num==1):\n",
    "    print(\"january\")\n",
    "elif(num==2):\n",
    "    print(\"fabuary\")\n",
    "elif(num==3):\n",
    "    print(\"march\")\n",
    "elif(num==4):\n",
    "    print(\"april\")\n",
    "elif(num==5):\n",
    "    print(\"may\")\n",
    "elif(num==6):\n",
    "    print(\"june\")\n",
    "elif(num==7):\n",
    "    print(\"july\")\n",
    "elif(num==8):\n",
    "    print(\"august\")\n",
    "elif(num==9):\n",
    "    print(\"september\")\n",
    "elif(num==10):\n",
    "    print(\"octuber\")\n",
    "elif(num==11):\n",
    "    print(\"november\")\n",
    "elif(num==12):\n",
    "    print(\"december\")\n",
    "    "
   ]
  },
  {
   "cell_type": "code",
   "execution_count": 6,
   "id": "ff0ee086-7a2e-4a8e-a7bc-5b8a75a292cf",
   "metadata": {},
   "outputs": [
    {
     "name": "stdin",
     "output_type": "stream",
     "text": [
      "enter the weeks number 12\n"
     ]
    },
    {
     "name": "stdout",
     "output_type": "stream",
     "text": [
      "12\n",
      "enter correct number\n"
     ]
    }
   ],
   "source": [
    "# Q2.\n",
    "\n",
    "num=int(input(\"enter the weeks number\"))\n",
    "print(num)\n",
    "if(num==1):\n",
    "    print(\"SUNDAY\")\n",
    "elif(num==2):\n",
    "    print(\"MONDAY\")\n",
    "elif(num==3):\n",
    "    print(\"TUESDAY\")\n",
    "elif(num==4):\n",
    "    print(\"WEDNESDAY\")\n",
    "elif(num==5):\n",
    "    print(\"THRUSDAY\")\n",
    "elif(num==6):\n",
    "    print(\"FRIDAY\")\n",
    "elif(num==7):\n",
    "    print(\"SATURDAY\")\n",
    "else:\n",
    "    print(\"enter correct number\")\n"
   ]
  },
  {
   "cell_type": "code",
   "execution_count": 5,
   "id": "c9dfbe3b-25c1-4c18-b3c1-2a2a2bb68e11",
   "metadata": {},
   "outputs": [
    {
     "name": "stdin",
     "output_type": "stream",
     "text": [
      "enter your marks 89\n"
     ]
    },
    {
     "name": "stdout",
     "output_type": "stream",
     "text": [
      "\n",
      "excilent\n"
     ]
    }
   ],
   "source": [
    "# Q3. \n",
    "num=int(input(\"enter your marks\"))\n",
    "print(\"\")\n",
    "if 60>num:\n",
    "    print (\"fail\")\n",
    "elif (60<=num and 70>num):\n",
    "    print (\"average\")\n",
    "elif (70<=num and 80>num):\n",
    "    print (\"good\")\n",
    "elif (80<=num and 100>=num):\n",
    "    print (\"excilent\")"
   ]
  }
 ],
 "metadata": {
  "kernelspec": {
   "display_name": "Python 3 (ipykernel)",
   "language": "python",
   "name": "python3"
  },
  "language_info": {
   "codemirror_mode": {
    "name": "ipython",
    "version": 3
   },
   "file_extension": ".py",
   "mimetype": "text/x-python",
   "name": "python",
   "nbconvert_exporter": "python",
   "pygments_lexer": "ipython3",
   "version": "3.10.11"
  }
 },
 "nbformat": 4,
 "nbformat_minor": 5
}
