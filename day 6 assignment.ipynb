{
 "cells": [
  {
   "cell_type": "code",
   "execution_count": 5,
   "id": "d2cffc1e-1200-4be0-b103-0acc898901c8",
   "metadata": {},
   "outputs": [
    {
     "data": {
      "text/plain": [
       "65"
      ]
     },
     "execution_count": 5,
     "metadata": {},
     "output_type": "execute_result"
    }
   ],
   "source": [
    "ord(\"A\")"
   ]
  },
  {
   "cell_type": "code",
   "execution_count": 84,
   "id": "22bbdac4-c52a-4e87-89a5-ae01944751cb",
   "metadata": {
    "scrolled": true
   },
   "outputs": [
    {
     "name": "stdout",
     "output_type": "stream",
     "text": [
      "A B C D  \n",
      "  B C D  \n",
      "    C D  \n",
      "      D  \n"
     ]
    }
   ],
   "source": [
    "for i in range(1,5):\n",
    "    for j in range(1,i):\n",
    "        print(\" \",end=\" \")\n",
    "    for k in range(i,5):\n",
    "        print(chr(64+i),end=\" \")\n",
    "        i+=1\n",
    "    print(\" \")"
   ]
  },
  {
   "cell_type": "code",
   "execution_count": 85,
   "id": "5b51d319-0ae6-4451-b32d-a6f7d4a3f070",
   "metadata": {},
   "outputs": [
    {
     "name": "stdout",
     "output_type": "stream",
     "text": [
      "A B C D  \n",
      "  A B C  \n",
      "    A B  \n",
      "      A  \n"
     ]
    }
   ],
   "source": [
    "for i in range(1,5):\n",
    "    x=65\n",
    "    for j in range(1,i):\n",
    "        print(\" \",end=\" \")\n",
    "    for k in  range(i,5):\n",
    "        print(chr(x),end=\" \")\n",
    "        x+=1\n",
    "    print(\" \")"
   ]
  },
  {
   "cell_type": "code",
   "execution_count": 186,
   "id": "9646856f-51dd-420c-b165-3f00055e38be",
   "metadata": {},
   "outputs": [
    {
     "name": "stdout",
     "output_type": "stream",
     "text": [
      "* * * * \n",
      "  *   * \n",
      "    * * \n",
      "      * \n"
     ]
    }
   ],
   "source": [
    "for i in range(1,5):\n",
    "    for j in range(1,i):\n",
    "        print(\" \",end=\" \")\n",
    "    for k in range(i,5):\n",
    "        if(k==4 or i==1 or i==k):\n",
    "            print(\"*\",end=\" \")\n",
    "        else:\n",
    "            print(\" \",end=\" \")\n",
    "    print(\"\")"
   ]
  },
  {
   "cell_type": "code",
   "execution_count": 187,
   "id": "bee6f2c4-bfcf-4a63-ac99-fb9d92c0e28d",
   "metadata": {},
   "outputs": [
    {
     "name": "stdout",
     "output_type": "stream",
     "text": [
      "* * * * \n",
      "*   * \n",
      "* * \n",
      "* \n"
     ]
    }
   ],
   "source": [
    "for i in range(1,5):\n",
    "    for j in range(4,i-1,-1):\n",
    "        if(i==1 or j==4 or i==j):\n",
    "            print(\"*\",end=\" \")\n",
    "        else:\n",
    "            print(\" \",end=\" \")\n",
    "    print(\"\")"
   ]
  },
  {
   "cell_type": "code",
   "execution_count": 188,
   "id": "901b0a65-e7aa-41a0-a92f-5a99299f001a",
   "metadata": {},
   "outputs": [
    {
     "name": "stdout",
     "output_type": "stream",
     "text": [
      "* \n",
      "* * \n",
      "*   * \n",
      "* * * * \n"
     ]
    }
   ],
   "source": [
    "for i in range(1,5):\n",
    "    for j in range(1,i+1):\n",
    "        if(i==4 or j==1 or i==j):\n",
    "            print(\"*\",end=\" \")\n",
    "        else:\n",
    "            print(\" \",end=\" \")\n",
    "    print(\"\")"
   ]
  },
  {
   "cell_type": "code",
   "execution_count": null,
   "id": "190d2e96-7fed-48c3-be8d-9c9b4ea77160",
   "metadata": {},
   "outputs": [],
   "source": []
  }
 ],
 "metadata": {
  "kernelspec": {
   "display_name": "Python 3 (ipykernel)",
   "language": "python",
   "name": "python3"
  },
  "language_info": {
   "codemirror_mode": {
    "name": "ipython",
    "version": 3
   },
   "file_extension": ".py",
   "mimetype": "text/x-python",
   "name": "python",
   "nbconvert_exporter": "python",
   "pygments_lexer": "ipython3",
   "version": "3.10.11"
  }
 },
 "nbformat": 4,
 "nbformat_minor": 5
}
