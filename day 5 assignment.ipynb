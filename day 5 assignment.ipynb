{
 "cells": [
  {
   "cell_type": "code",
   "execution_count": 8,
   "id": "adc5386e-6bf0-4792-81df-9d6e7db8cfdf",
   "metadata": {},
   "outputs": [
    {
     "name": "stdout",
     "output_type": "stream",
     "text": [
      "* * * * * \n",
      "* * * * \n",
      "* * * \n",
      "* * \n",
      "* \n"
     ]
    }
   ],
   "source": [
    "# Q1.\n",
    "for i in range(0,5):\n",
    "    for j in range(i,5):\n",
    "        print(\"*\",end=\" \")\n",
    "    print(\"\")   "
   ]
  },
  {
   "cell_type": "code",
   "execution_count": 25,
   "id": "7edafb77-e665-4b1f-8d4a-b3e9843db7ff",
   "metadata": {},
   "outputs": [
    {
     "name": "stdout",
     "output_type": "stream",
     "text": [
      "\n",
      "10 \n",
      "11 12 \n",
      "13 14 15 \n",
      "16 17 18 19 \n",
      "20 21 22 23 24 \n"
     ]
    }
   ],
   "source": [
    "# Q2.\n",
    "num=9\n",
    "for i in range(9,15):\n",
    "    for j in range(9,i):\n",
    "        num+=1\n",
    "        print(num,end=\" \")\n",
    "    print(\"\")"
   ]
  },
  {
   "cell_type": "code",
   "execution_count": 3,
   "id": "a778081e-5010-403b-b81c-f29d0636e3f3",
   "metadata": {},
   "outputs": [
    {
     "name": "stdout",
     "output_type": "stream",
     "text": [
      " \n",
      "10  \n",
      "10 11  \n",
      "10 11 12  \n",
      "10 11 12 13  \n"
     ]
    }
   ],
   "source": [
    "# Q3.\n",
    "for i in range(10,15):\n",
    "    for j in range(10,i):\n",
    "        print(j,end=\" \")\n",
    "    print(\" \")"
   ]
  },
  {
   "cell_type": "code",
   "execution_count": 33,
   "id": "aed25f0f-1149-4447-9461-329b0d8a7bb8",
   "metadata": {},
   "outputs": [
    {
     "data": {
      "text/plain": [
       "68"
      ]
     },
     "execution_count": 33,
     "metadata": {},
     "output_type": "execute_result"
    }
   ],
   "source": [
    "ord(\"D\")"
   ]
  },
  {
   "cell_type": "code",
   "execution_count": 32,
   "id": "799378a0-5860-4d53-aefe-1ed142658a0f",
   "metadata": {},
   "outputs": [
    {
     "name": "stdout",
     "output_type": "stream",
     "text": [
      "A \n",
      "A B \n",
      "A B C \n",
      "A B C D \n"
     ]
    }
   ],
   "source": [
    "\n",
    "for i in range(65, 69):\n",
    "    for j in range(65, i+1):\n",
    "        print(chr(j), end=\" \")\n",
    "    print(\"\")"
   ]
  },
  {
   "cell_type": "code",
   "execution_count": 44,
   "id": "829f0326-c0cc-466b-8271-e61e33f775bd",
   "metadata": {},
   "outputs": [
    {
     "name": "stdout",
     "output_type": "stream",
     "text": [
      "D \n",
      "D C \n",
      "D C B \n",
      "D C B A \n"
     ]
    }
   ],
   "source": [
    "for i in range(1,5):\n",
    "    for j in range(1,i+1):\n",
    "        print(chr(69-j),end=\" \")\n",
    "    print(\"\")\n",
    "    "
   ]
  },
  {
   "cell_type": "code",
   "execution_count": 55,
   "id": "0a3c3d91-7dd6-4b5c-8fa6-6ab167d2e595",
   "metadata": {},
   "outputs": [
    {
     "name": "stdout",
     "output_type": "stream",
     "text": [
      "D C B A \n",
      "D C B \n",
      "D C \n",
      "D \n"
     ]
    }
   ],
   "source": [
    "for i in range(1,5):\n",
    "    for j in range(4,i-1,-1):\n",
    "        print(chr(64+j),end=\" \")\n",
    "    print(\"\")\n",
    "    "
   ]
  },
  {
   "cell_type": "code",
   "execution_count": 58,
   "id": "17fe4550-2618-4af5-a065-83aa7907eaa2",
   "metadata": {},
   "outputs": [
    {
     "name": "stdout",
     "output_type": "stream",
     "text": [
      "F \n",
      "H J \n",
      "L N P \n",
      "R T V X \n"
     ]
    }
   ],
   "source": [
    "x=6\n",
    "for i in range(1,5):\n",
    "    for j in range(1,i+1):\n",
    "        print(chr(64+x),end=\" \")\n",
    "        x+=2\n",
    "    print(\"\")"
   ]
  },
  {
   "cell_type": "code",
   "execution_count": 62,
   "id": "e3201dd8-fb58-45ca-b626-1ee4f1a10c6a",
   "metadata": {},
   "outputs": [
    {
     "name": "stdout",
     "output_type": "stream",
     "text": [
      "1 \n",
      "1 2 \n",
      "1 2 1 \n",
      "1 2 1 2 \n",
      "1 2 1 2 1 \n"
     ]
    }
   ],
   "source": [
    "for i in range(1,6):\n",
    "    for j in range(1,i+1):\n",
    "        if(j%2==0):\n",
    "            print(\"2\",end=\" \")\n",
    "        else:\n",
    "            print(\"1\",end=\" \")\n",
    "    print(\"\")"
   ]
  },
  {
   "cell_type": "code",
   "execution_count": 69,
   "id": "5862ef46-c767-4523-87bd-9e1c78476b5d",
   "metadata": {},
   "outputs": [
    {
     "name": "stdout",
     "output_type": "stream",
     "text": [
      "* * * * * \n",
      "  * * * * \n",
      "    * * * \n",
      "      * * \n",
      "        * \n"
     ]
    }
   ],
   "source": [
    "for i in range(0,5):\n",
    "    for j in range(0,i):\n",
    "        print(\" \",end=\" \")\n",
    "    for k in range(i,5):\n",
    "        print(\"*\",end=\" \")\n",
    "    print(\"\")"
   ]
  }
 ],
 "metadata": {
  "kernelspec": {
   "display_name": "Python 3 (ipykernel)",
   "language": "python",
   "name": "python3"
  },
  "language_info": {
   "codemirror_mode": {
    "name": "ipython",
    "version": 3
   },
   "file_extension": ".py",
   "mimetype": "text/x-python",
   "name": "python",
   "nbconvert_exporter": "python",
   "pygments_lexer": "ipython3",
   "version": "3.10.11"
  }
 },
 "nbformat": 4,
 "nbformat_minor": 5
}
