{
 "cells": [
  {
   "cell_type": "code",
   "execution_count": 2,
   "id": "415dba13-66d0-49a9-a430-c11d0d30da29",
   "metadata": {},
   "outputs": [
    {
     "name": "stdout",
     "output_type": "stream",
     "text": [
      "210\n"
     ]
    }
   ],
   "source": [
    "# Q1.\n",
    "sum = 0\n",
    "for i in range(0,21):\n",
    "    sum += i\n",
    "print(sum)"
   ]
  },
  {
   "cell_type": "code",
   "execution_count": 4,
   "id": "d185a0a7-aa74-4e57-ad49-b83970554145",
   "metadata": {},
   "outputs": [
    {
     "name": "stdout",
     "output_type": "stream",
     "text": [
      "19770\n"
     ]
    }
   ],
   "source": [
    "#2 Run for loop and find the total sum of last 20  3 digit natural numbers\n",
    "\n",
    "sum=0\n",
    "for i in range(979,999):\n",
    "    sum+=i\n",
    "print(sum)"
   ]
  },
  {
   "cell_type": "code",
   "execution_count": 7,
   "id": "b1d095f9-25b5-4992-bef5-10071001d193",
   "metadata": {},
   "outputs": [
    {
     "name": "stdout",
     "output_type": "stream",
     "text": [
      "121645100408832000\n",
      "6082255020441600.0\n"
     ]
    }
   ],
   "source": [
    "#3 Run for loop and find the product & average of any 20 natural numbers\n",
    "\n",
    "sum=1\n",
    "for i in range(1,20):\n",
    "    sum=sum*i\n",
    "print(sum)\n",
    "average=sum/20\n",
    "print(average)"
   ]
  },
  {
   "cell_type": "code",
   "execution_count": 16,
   "id": "1125e105-bcb9-45a9-9254-c7eb313862c8",
   "metadata": {},
   "outputs": [
    {
     "name": "stdin",
     "output_type": "stream",
     "text": [
      "enter the digit 2\n"
     ]
    },
    {
     "name": "stdout",
     "output_type": "stream",
     "text": [
      "2\n",
      "4\n",
      "6\n",
      "8\n",
      "10\n",
      "12\n",
      "14\n",
      "16\n",
      "18\n",
      "20\n"
     ]
    }
   ],
   "source": [
    "#4 print a multiplication table of a number given by a user\n",
    "table=int(input(\"enter the digit\") )\n",
    "for num in range(1,11):\n",
    "    multi = num * table\n",
    "    print(multi)"
   ]
  },
  {
   "cell_type": "code",
   "execution_count": 20,
   "id": "71dc2aae-96af-46b4-8f61-46ff03aa6052",
   "metadata": {},
   "outputs": [
    {
     "name": "stdin",
     "output_type": "stream",
     "text": [
      "enter the number 2\n"
     ]
    },
    {
     "name": "stdout",
     "output_type": "stream",
     "text": [
      "126\n"
     ]
    }
   ],
   "source": [
    "#5 find out the sum of the power of starting 6 number\n",
    "element=int(input(\"enter the number\"))\n",
    "power=0\n",
    "for i in range(1,7):\n",
    "    power = element ** i + power\n",
    "print(power)"
   ]
  },
  {
   "cell_type": "code",
   "execution_count": 32,
   "id": "aae5573d-29e1-46ed-8570-d8cb21b38679",
   "metadata": {},
   "outputs": [
    {
     "name": "stdin",
     "output_type": "stream",
     "text": [
      "enter the string lakshit\n"
     ]
    },
    {
     "name": "stdout",
     "output_type": "stream",
     "text": [
      "5\n"
     ]
    }
   ],
   "source": [
    "''' Q6. take a string from the user and find out the total consonant which are available in a string '''\n",
    "i=input(\"enter the string\")\n",
    "count=5\n",
    "vowels=\"aeiou\"\n",
    "for j in i:\n",
    "    if i is  vowels:\n",
    "        count-=1\n",
    "print(count)\n",
    "    \n"
   ]
  },
  {
   "cell_type": "code",
   "execution_count": 65,
   "id": "48234704-e3f4-48f0-aa5e-b6d68d2e34cf",
   "metadata": {},
   "outputs": [
    {
     "name": "stdin",
     "output_type": "stream",
     "text": [
      "enter the number 5\n"
     ]
    },
    {
     "name": "stdout",
     "output_type": "stream",
     "text": [
      "9 15 1.8 3\n"
     ]
    }
   ],
   "source": [
    "'''\n",
    "Q7.  take a int number from the user and find out the total sum, average and the product of that \n",
    "numbers from 1 to the input provided only for odd values\n",
    "'''\n",
    "sum=0\n",
    "product=1\n",
    "count=0\n",
    "i=int(input(\"enter the number\"))\n",
    "for i in range(0,i+1):\n",
    "    if i%2!=0:\n",
    "        sum+=i\n",
    "        product*=i\n",
    "        average=sum/i\n",
    "        count+=1\n",
    "print(sum,product,average,count)\n"
   ]
  },
  {
   "cell_type": "code",
   "execution_count": 52,
   "id": "973bca89-6551-4038-8a50-820c44321414",
   "metadata": {},
   "outputs": [
    {
     "name": "stdin",
     "output_type": "stream",
     "text": [
      "enter the number:  5\n"
     ]
    },
    {
     "name": "stdout",
     "output_type": "stream",
     "text": [
      "9 15 3.0\n"
     ]
    }
   ],
   "source": [
    "number=int(input(\"enter the number: \"))\n",
    "sum = 0\n",
    "product = 1\n",
    "count = 0\n",
    "\n",
    "for i in range(0,number+1):\n",
    "    if i%2!=0:\n",
    "        sum+=i\n",
    "        product*=i\n",
    "        count +=1\n",
    "average = sum/count\n",
    "print(sum,product,average)\n"
   ]
  }
 ],
 "metadata": {
  "kernelspec": {
   "display_name": "Python 3 (ipykernel)",
   "language": "python",
   "name": "python3"
  },
  "language_info": {
   "codemirror_mode": {
    "name": "ipython",
    "version": 3
   },
   "file_extension": ".py",
   "mimetype": "text/x-python",
   "name": "python",
   "nbconvert_exporter": "python",
   "pygments_lexer": "ipython3",
   "version": "3.10.11"
  }
 },
 "nbformat": 4,
 "nbformat_minor": 5
}
