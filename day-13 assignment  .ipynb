{
 "cells": [
  {
   "cell_type": "code",
   "execution_count": 1,
   "id": "e5d0969a-6b49-4be3-ab89-249278faa269",
   "metadata": {},
   "outputs": [
    {
     "data": {
      "text/plain": [
       "' create a function takes a int value as parameter\\n    and print the following pattern\\n    * * * * *\\n     * * * *\\n      * * *\\n       * *\\n        *\\n'"
      ]
     },
     "execution_count": 1,
     "metadata": {},
     "output_type": "execute_result"
    }
   ],
   "source": [
    "# create a function and find out the lcm of two number\n",
    "# create a function and find out prime number.\n",
    "\n",
    "''' create a function takes a int value as parameter\n",
    "    and print the following pattern\n",
    "    * * * * *\n",
    "     * * * *\n",
    "      * * *\n",
    "       * *\n",
    "        *\n",
    "'''"
   ]
  },
  {
   "cell_type": "code",
   "execution_count": 2,
   "id": "3a1ebf6e-fd08-4e95-8a54-cb53b33b523b",
   "metadata": {},
   "outputs": [
    {
     "name": "stdout",
     "output_type": "stream",
     "text": [
      "LCM is = 18\n"
     ]
    }
   ],
   "source": [
    "def lcm(x,y):\n",
    "    if x<y:\n",
    "        big=y\n",
    "    else:\n",
    "        big=x\n",
    "    while(True):\n",
    "        if((big%x==0) and (big%y==0)):\n",
    "            lcm=big\n",
    "            break\n",
    "        big+=1\n",
    "    return lcm\n",
    "\n",
    "lcm(2,9)\n",
    "print(\"LCM is =\",lcm(2,9))"
   ]
  },
  {
   "cell_type": "code",
   "execution_count": 19,
   "id": "496ac372-ec14-4b88-8dad-58716817574f",
   "metadata": {},
   "outputs": [
    {
     "name": "stdout",
     "output_type": "stream",
     "text": [
      "not prime\n"
     ]
    },
    {
     "data": {
      "text/plain": [
       "<function __main__.prime(x)>"
      ]
     },
     "execution_count": 19,
     "metadata": {},
     "output_type": "execute_result"
    }
   ],
   "source": [
    "def prime(x):\n",
    "    for i in range(2,x):\n",
    "        if(x%i==0):\n",
    "            print(\"not prime\")\n",
    "            break\n",
    "        elif(x-1==i):\n",
    "            print(\"it is a prime number\")\n",
    "    return prime\n",
    "prime(6)"
   ]
  },
  {
   "cell_type": "code",
   "execution_count": 46,
   "id": "8731b71a-d22c-4827-94f9-0ef0bc9c20e5",
   "metadata": {},
   "outputs": [
    {
     "name": "stdout",
     "output_type": "stream",
     "text": [
      "* * * * *  \n",
      " * * * *  \n",
      "  * * *  \n",
      "   * *  \n",
      "    *  \n"
     ]
    }
   ],
   "source": [
    "def \n",
    "    for i in range(0,5):\n",
    "        for j in range(0,i):\n",
    "            print(\"\",end=\" \")\n",
    "        for k in range(i,5):\n",
    "            print(\"*\",end=\" \")\n",
    "        print(\" \")"
   ]
  },
  {
   "cell_type": "code",
   "execution_count": null,
   "id": "d368e6eb-bff9-4c81-96a7-fcb2c13c44d6",
   "metadata": {},
   "outputs": [],
   "source": []
  }
 ],
 "metadata": {
  "kernelspec": {
   "display_name": "Python 3 (ipykernel)",
   "language": "python",
   "name": "python3"
  },
  "language_info": {
   "codemirror_mode": {
    "name": "ipython",
    "version": 3
   },
   "file_extension": ".py",
   "mimetype": "text/x-python",
   "name": "python",
   "nbconvert_exporter": "python",
   "pygments_lexer": "ipython3",
   "version": "3.10.11"
  }
 },
 "nbformat": 4,
 "nbformat_minor": 5
}
